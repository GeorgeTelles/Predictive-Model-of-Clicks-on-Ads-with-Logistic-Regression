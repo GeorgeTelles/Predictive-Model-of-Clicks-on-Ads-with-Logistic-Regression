{
  "cells": [
    {
      "cell_type": "markdown",
      "metadata": {
        "id": "view-in-github",
        "colab_type": "text"
      },
      "source": [
        "<a href=\"https://colab.research.google.com/github/GeorgeTelles/Predictive-Model-of-Clicks-on-Ads-with-Logistic-Regression/blob/main/Predictive_Model_of_Clicks_on_Ads_with_Logistic_Regression.ipynb\" target=\"_parent\"><img src=\"https://colab.research.google.com/assets/colab-badge.svg\" alt=\"Open In Colab\"/></a>"
      ]
    },
    {
      "cell_type": "markdown",
      "source": [
        "<div>\n",
        "  <img src=\"https://raw.githubusercontent.com/GeorgeTelles/georgetelles/f69531ec6b293b5148563588a764c010015d315e/logo_clara.png\" alt=\"logo clara\" width=\"300\" style=\"display: inline-block; vertical-align: top; margin-right: 10px;\">\n",
        "  <img src=\"https://raw.githubusercontent.com/GeorgeTelles/georgetelles/f69531ec6b293b5148563588a764c010015d315e/logo_dark.png\" alt=\"logo dark\" width=\"300\" style=\"display: inline-block; vertical-align: top;\">\n",
        "</div>"
      ],
      "metadata": {
        "id": "ul24MH6QisWJ"
      }
    },
    {
      "cell_type": "markdown",
      "source": [
        "# Predictive Model of Clicks on Ads with Logistic Regression"
      ],
      "metadata": {
        "id": "HsI7ZUyXiMnB"
      }
    },
    {
      "cell_type": "markdown",
      "metadata": {
        "id": "bqJ1zr4GDexG"
      },
      "source": [
        "\n",
        "\n",
        "\n",
        "Neste projeto será analisado um conjunto de dados de publicidade, indicando se um usuário de internet específico clicou ou não em um anuncio. O objetivo é criar um modelo que preveja se clicará ou não em um anúncio baseado nos dados desse usuário.\n",
        "\n",
        "Este conjunto de dados contém os seguintes recursos:\n",
        "\n",
        "* 'Daily Time Spent on Site': tempo no site em minutos.\n",
        "* 'Age': idade do consumidor.\n",
        "* 'Area Income': Média da renda do consumidor na região.\n",
        "* 'Daily Internet Usage': Média em minutos por di que o consumidor está na internet.\n",
        "* 'Linha do tópico do anúncio': Título do anúncio.\n",
        "* 'City': Cidade do consumidor.\n",
        "* 'Male': Se o consumidor era ou não masculino.\n",
        "* 'Country': País do consumidor.\n",
        "* 'Timestamp': hora em que o consumidor clicou no anúncio ou janela fechada.\n",
        "* 'Clicked on Ad'': 0 ou 1 indicam se clicou ou não no anúncio."
      ]
    },
    {
      "cell_type": "markdown",
      "metadata": {
        "id": "AnLn0pWADexH"
      },
      "source": [
        "## Bibliotecas e Modulos"
      ]
    },
    {
      "cell_type": "code",
      "execution_count": null,
      "metadata": {
        "id": "aBjzEeBDDexI"
      },
      "outputs": [],
      "source": [
        "import pandas as pd\n",
        "import numpy as np\n",
        "import matplotlib.pyplot as plt\n",
        "import seaborn as sns\n",
        "\n",
        "from sklearn.model_selection import train_test_split\n",
        "from sklearn.linear_model import LogisticRegression\n",
        "from sklearn.metrics import classification_report, confusion_matrix"
      ]
    },
    {
      "cell_type": "markdown",
      "metadata": {
        "id": "EKditrX2DexI"
      },
      "source": [
        "## Obter dados"
      ]
    },
    {
      "cell_type": "code",
      "execution_count": null,
      "metadata": {
        "id": "QMSbdPnODexJ"
      },
      "outputs": [],
      "source": [
        "ad_data = pd.read_csv('https://raw.githubusercontent.com/GeorgeTelles/Predictive-Model-of-Clicks-on-Ads-with-Logistic-Regression/5593c6779cbb266a74510281cfbe06bc33507bc8/data-advertising.csv')\n",
        "ad_data[\"Timestamp\"] = pd.to_datetime(ad_data[\"Timestamp\"])"
      ]
    },
    {
      "cell_type": "markdown",
      "metadata": {
        "id": "ZVF_5A4dDexJ"
      },
      "source": [
        "## Análise exploratória de dados"
      ]
    },
    {
      "cell_type": "code",
      "execution_count": null,
      "metadata": {
        "id": "LF8j6VzDDexJ"
      },
      "outputs": [],
      "source": [
        "ad_data.head()"
      ]
    },
    {
      "cell_type": "code",
      "execution_count": null,
      "metadata": {
        "id": "uxWCjPlfDexJ"
      },
      "outputs": [],
      "source": [
        "ad_data.info()"
      ]
    },
    {
      "cell_type": "code",
      "execution_count": null,
      "metadata": {
        "id": "XXPoHp9CDexK"
      },
      "outputs": [],
      "source": [
        "ad_data.describe()"
      ]
    },
    {
      "cell_type": "markdown",
      "metadata": {
        "id": "o0oCOhGpDexL"
      },
      "source": [
        "# Visualizar Dados"
      ]
    },
    {
      "cell_type": "code",
      "execution_count": null,
      "metadata": {
        "id": "CM-90cepDexL"
      },
      "outputs": [],
      "source": [
        "sns.pairplot(ad_data,hue='Clicked on Ad',palette='bwr')"
      ]
    },
    {
      "cell_type": "markdown",
      "metadata": {
        "id": "SZzPUsj9DexL"
      },
      "source": [
        "\n",
        "# Regressão Logística\n",
        "\n",
        "Vou dividir os dados em treino e teste e fitar o modelo."
      ]
    },
    {
      "cell_type": "code",
      "execution_count": null,
      "metadata": {
        "id": "1ClYEFy6DexL"
      },
      "outputs": [],
      "source": [
        "X = ad_data[['Daily Time Spent on Site', 'Age', 'Area Income','Daily Internet Usage', 'Male']]\n",
        "y = ad_data['Clicked on Ad']"
      ]
    },
    {
      "cell_type": "code",
      "execution_count": null,
      "metadata": {
        "id": "PvpAJmYkDexL"
      },
      "outputs": [],
      "source": [
        "X_train, X_test, y_train, y_test = train_test_split(X, y, test_size=0.33, random_state=42)"
      ]
    },
    {
      "cell_type": "code",
      "execution_count": null,
      "metadata": {
        "id": "QIZY5agMDexM"
      },
      "outputs": [],
      "source": [
        "logmodel = LogisticRegression(max_iter=300)\n",
        "logmodel.fit(X_train,y_train)"
      ]
    },
    {
      "cell_type": "markdown",
      "metadata": {
        "id": "WdSCaRSuDexM"
      },
      "source": [
        "## Previsões e avaliações"
      ]
    },
    {
      "cell_type": "code",
      "execution_count": null,
      "metadata": {
        "id": "poQj2bsPDexM"
      },
      "outputs": [],
      "source": [
        "predictions = logmodel.predict(X_test)"
      ]
    },
    {
      "cell_type": "markdown",
      "metadata": {
        "id": "Nofts7I2DexM"
      },
      "source": [
        "**Relatório de classificação para o modelo.**"
      ]
    },
    {
      "cell_type": "code",
      "execution_count": null,
      "metadata": {
        "id": "hblzjZIyDexM"
      },
      "outputs": [],
      "source": [
        "print(classification_report(y_test,predictions))"
      ]
    },
    {
      "cell_type": "code",
      "execution_count": null,
      "metadata": {
        "id": "-ZUkc9MQDexN"
      },
      "outputs": [],
      "source": [
        "cm = confusion_matrix(y_test, predictions)\n",
        "cm"
      ]
    },
    {
      "cell_type": "code",
      "execution_count": null,
      "metadata": {
        "id": "tYY7rvHADexN"
      },
      "outputs": [],
      "source": [
        "cm_df = pd.DataFrame(cm, index=['Not Clicked', 'Clicked'], columns=['Not Clicked', 'Clicked'])\n",
        "\n",
        "# máscara para acertos (verdadeiros positivos e verdadeiros negativos)\n",
        "mask_correct = np.array([[True, False], [False, True]])  # Correto: diagonal principal\n",
        "\n",
        "# máscara para erros (falsos positivos e falsos negativos)\n",
        "mask_errors = ~mask_correct\n",
        "\n",
        "# Define a palete de cores\n",
        "cmap = sns.color_palette([\"red\", \"green\"])\n",
        "\n",
        "# Plota a matriz de confusão\n",
        "plt.figure(figsize=(8, 6))\n",
        "\n",
        "# Plota os erros (falsos positivos e falsos negativos) em vermelho\n",
        "sns.heatmap(cm_df, annot=True, fmt='d', cmap=sns.color_palette([\"red\"]), mask=mask_correct, cbar=False, linewidths=0.5)\n",
        "\n",
        "# Plota os acertos (verdadeiros positivos e verdadeiros negativos) em verde\n",
        "sns.heatmap(cm_df, annot=True, fmt='d', cmap=sns.color_palette([\"green\"]), mask=mask_errors, cbar=False, linewidths=0.5)\n",
        "\n",
        "plt.title('Matriz de Confusão')\n",
        "plt.xlabel('Classe Prevista')\n",
        "plt.ylabel('Classe Real')\n",
        "plt.show()\n"
      ]
    },
    {
      "cell_type": "markdown",
      "source": [
        "# Resumo dos Insights e Métricas\n",
        "\n",
        "## 1. Relatório de Classificação\n",
        "\n",
        "O **relatório de classificação** oferece uma visão detalhada da performance do modelo com base em várias métricas importantes:\n",
        "\n",
        "### **Precisão (Precision)**\n",
        "\n",
        "- **Definição**: A precisão mede a proporção de verdadeiros positivos em relação ao total de previsões positivas feitas pelo modelo. Em outras palavras, é a taxa de acerto entre todas as previsões de uma determinada classe.\n",
        "  \n",
        "  \\[\n",
        "  \\text{Precisão} = \\frac{\\text{Verdadeiros Positivos (TP)}}{\\text{Verdadeiros Positivos (TP)} + \\text{Falsos Positivos (FP)}}\n",
        "  \\]\n",
        "\n",
        "- **Resultado**:\n",
        "  - **Classe 0 (Não Clicou)**: 0.86\n",
        "    - Significa que, entre todas as previsões de \"Não Clicou\", 86% estavam corretas. O modelo teve 14% de previsões falsas para essa classe.\n",
        "  - **Classe 1 (Clicou)**: 0.96\n",
        "    - Significa que, entre todas as previsões de \"Clicou\", 96% estavam corretas. O modelo teve apenas 4% de previsões falsas para essa classe.\n",
        "\n",
        "  A alta precisão para a classe \"Clicou\" sugere que o modelo é muito eficaz em identificar corretamente quando um usuário clicou no anúncio, enquanto a precisão mais baixa para a classe \"Não Clicou\" indica que há alguns erros na identificação de não cliques.\n",
        "\n",
        "### **Revocação (Recall)**\n",
        "\n",
        "- **Definição**: A revocação mede a proporção de verdadeiros positivos identificados corretamente em relação ao total de casos reais positivos. Em outras palavras, é a taxa de detecção dos casos positivos verdadeiros.\n",
        "\n",
        "  \\[\n",
        "  \\text{Revocação} = \\frac{\\text{Verdadeiros Positivos (TP)}}{\\text{Verdadeiros Positivos (TP)} + \\text{Falsos Negativos (FN)}}\n",
        "  \\]\n",
        "\n",
        "- **Resultado**:\n",
        "  - **Classe 0 (Não Clicou)**: 0.96\n",
        "    - Significa que, entre todos os reais \"Não Clicou\", 96% foram corretamente identificados pelo modelo. Isso indica uma excelente capacidade de identificar usuários que não clicaram no anúncio.\n",
        "  - **Classe 1 (Clicou)**: 0.85\n",
        "    - Significa que, entre todos os reais \"Clicou\", 85% foram corretamente identificados pelo modelo. Há uma pequena proporção de cliques verdadeiros que o modelo não conseguiu detectar.\n",
        "\n",
        "  A revocação mais alta para \"Não Clicou\" mostra que o modelo é muito bom em identificar esses casos, enquanto a revocação para \"Clicou\" ainda é boa, mas não tão alta quanto para \"Não Clicou\".\n",
        "\n",
        "### **Pontuação F1 (F1 Score)**\n",
        "\n",
        "- **Definição**: A Pontuação F1 é a média harmônica entre a precisão e a revocação. Ela combina ambas as métricas em um único valor, útil quando há a necessidade de balancear precisão e revocação.\n",
        "\n",
        "  \\[\n",
        "  \\text{Pontuação F1} = 2 \\times \\frac{\\text{Precisão} \\times \\text{Revocação}}{\\text{Precisão} + \\text{Revocação}}\n",
        "  \\]\n",
        "\n",
        "- **Resultado**:\n",
        "  - **Classe 0 (Não Clicou)**: 0.91\n",
        "    - A média harmônica entre precisão (0.86) e revocação (0.96) para a classe \"Não Clicou\".\n",
        "  - **Classe 1 (Clicou)**: 0.90\n",
        "    - A média harmônica entre precisão (0.96) e revocação (0.85) para a classe \"Clicou\".\n",
        "\n",
        "  A Pontuação F1 é bastante equilibrada para ambas as classes, mostrando que o modelo tem um bom equilíbrio entre identificar corretamente os cliques e não cliques.\n",
        "\n",
        "### **Acurácia (Accuracy)**\n",
        "\n",
        "- **Definição**: A acurácia é a proporção total de previsões corretas (tanto positivas quanto negativas) em relação ao total de previsões feitas. É uma medida geral da eficácia do modelo.\n",
        "\n",
        "  \\[\n",
        "  \\text{Acurácia} = \\frac{\\text{Verdadeiros Positivos (TP)} + \\text{Verdadeiros Negativos (TN)}}{\\text{Total de Amostras}}\n",
        "  \\]\n",
        "\n",
        "- **Resultado**: 0.91\n",
        "  - O modelo acertou 91% das previsões, indicando um desempenho geral muito bom.\n",
        "\n",
        "### **Média Macro e Ponderada**\n",
        "\n",
        "- **Macro Avg**:\n",
        "  - **Definição**: A média não ponderada das métricas de precisão, revocação e F1 Score para todas as classes.\n",
        "  - **Resultado**: 0.91\n",
        "    - É a média das métricas para cada classe, tratando todas as classes igualmente.\n",
        "\n",
        "- **Weighted Avg**:\n",
        "  - **Definição**: A média ponderada das métricas de precisão, revocação e F1 Score, levando em consideração o número de amostras de cada classe.\n",
        "  - **Resultado**: 0.91\n",
        "    - Reflete a média das métricas ajustada pelo número de amostras em cada classe, oferecendo uma visão mais equilibrada considerando a distribuição das classes.\n",
        "\n",
        "## 2. Matriz de Confusão\n",
        "\n",
        "A **matriz de confusão** ajuda a visualizar a performance do modelo com relação aos verdadeiros positivos (TP), verdadeiros negativos (TN), falsos positivos (FP) e falsos negativos (FN):\n",
        "\n",
        "- **Verdadeiros Negativos (TN)**: 156\n",
        "  - O número de casos em que o modelo corretamente previu \"Não Clicou\".\n",
        "\n",
        "- **Falsos Positivos (FP)**: 6\n",
        "  - O número de casos em que o modelo previu \"Clicou\", mas o real foi \"Não Clicou\".\n",
        "\n",
        "- **Falsos Negativos (FN)**: 25\n",
        "  - O número de casos em que o modelo previu \"Não Clicou\", mas o real foi \"Clicou\".\n",
        "\n",
        "- **Verdadeiros Positivos (TP)**: 143\n",
        "  - O número de casos em que o modelo corretamente previu \"Clicou\".\n",
        "\n",
        "### Interpretação dos Resultados\n",
        "\n",
        "- **Precisão** é mais alta para a classe \"Clicou\" (0.96) do que para \"Não Clicou\" (0.86). Isso sugere que o modelo é muito eficaz em identificar casos onde o usuário de fato clicou no anúncio, mas é um pouco menos preciso em identificar corretamente os casos onde o usuário não clicou.\n",
        "\n",
        "- **Revocação** é mais alta para a classe \"Não Clicou\" (0.96) do que para \"Clicou\" (0.85). Isso indica que o modelo é melhor em identificar usuários que não clicaram nos anúncios do que em identificar aqueles que realmente clicaram.\n",
        "\n",
        "- **Pontuação F1** é similar para ambas as classes (0.91 para \"Não Clicou\" e 0.90 para \"Clicou\"), mostrando um bom equilíbrio entre precisão e revocação.\n",
        "\n",
        "- A **matriz de confusão** confirma que o modelo tem um desempenho geral muito bom, com a maior parte das previsões corretas, mas há alguns casos de falsos positivos e negativos que ainda precisam ser ajustados.\n",
        "\n",
        "## 3. Análise Visual\n",
        "\n",
        "- **Pairplot**: O pairplot mostra a relação entre os diferentes recursos e como eles se distribuem entre as classes \"Clicou\" e \"Não Clicou\". Ajuda a entender como cada recurso contribui para a separação das classes e identificar padrões ou correlações.\n"
      ],
      "metadata": {
        "id": "7B9sExXSlPKw"
      }
    }
  ],
  "metadata": {
    "kernelspec": {
      "display_name": "Python 3 (ipykernel)",
      "language": "python",
      "name": "python3"
    },
    "language_info": {
      "codemirror_mode": {
        "name": "ipython",
        "version": 3
      },
      "file_extension": ".py",
      "mimetype": "text/x-python",
      "name": "python",
      "nbconvert_exporter": "python",
      "pygments_lexer": "ipython3",
      "version": "3.12.4"
    },
    "colab": {
      "provenance": [],
      "include_colab_link": true
    }
  },
  "nbformat": 4,
  "nbformat_minor": 0
}